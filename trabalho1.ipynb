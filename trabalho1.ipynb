{
 "cells": [
  {
   "cell_type": "markdown",
   "metadata": {},
   "source": [
    "# Trabalho 1 - Snakes and Ladders\n",
    "\n",
    "Felipe Souza Tanios, RA 155330"
   ]
  },
  {
   "cell_type": "raw",
   "metadata": {},
   "source": [
    "Ladder\tFrom\tTo\n",
    "#1\t1\t38\n",
    "#2\t4\t14\n",
    "#3\t9\t31\n",
    "#4\t21\t42\n",
    "#5\t28\t84\n",
    "#6\t36\t44\n",
    "#7\t51\t67\n",
    "#8\t71\t91\n",
    "#9\t80\t100"
   ]
  },
  {
   "cell_type": "raw",
   "metadata": {},
   "source": [
    "Snake\tFrom\tTo\n",
    "#1\t98\t78\n",
    "#2\t95\t75\n",
    "#3\t93\t73\n",
    "#4\t87\t24\n",
    "#5\t64\t60\n",
    "#6\t62\t19\n",
    "#7\t56\t53\n",
    "#8\t49\t11\n",
    "#9\t48\t26\n",
    "#10\t16\t6"
   ]
  },
  {
   "cell_type": "code",
   "execution_count": 1,
   "metadata": {},
   "outputs": [],
   "source": [
    "import numpy as np\n",
    "from matplotlib import pyplot as plt"
   ]
  },
  {
   "cell_type": "code",
   "execution_count": 2,
   "metadata": {},
   "outputs": [],
   "source": [
    "plays = 200\n",
    "board_size = 100\n",
    "dice = 2\n",
    "\n",
    "mobility_dict = {\n",
    "        1  :38,\n",
    "        4  :14,\n",
    "        9  :31,\n",
    "        21 :42,\n",
    "        28 :84,\n",
    "        36 :44,\n",
    "        51 :67,\n",
    "        71 :91,\n",
    "        80 :100,\n",
    "        98 :78,\n",
    "        95 :75,\n",
    "        93 :73,\n",
    "        87 :24,\n",
    "        64 :60,\n",
    "        62 :19,\n",
    "        56 :53,\n",
    "        49 :11,\n",
    "        48 :26,\n",
    "        16 :6\n",
    "}"
   ]
  },
  {
   "cell_type": "code",
   "execution_count": 28,
   "metadata": {},
   "outputs": [],
   "source": [
    "results = np.zeros((plays, board_size))\n",
    "\n",
    "for i in range(len(results)):\n",
    "    for j in range(len(results[i])):\n",
    "        \n",
    "        if i == 0:\n",
    "            if j < dice:\n",
    "                results[i][j] = 1/dice\n",
    "        if i > 0:\n",
    "                results[i][j] += sum((1/dice)*(results[i-1][j-(k+1)]) for k in range(dice) if j - (k+1) >= 0)\n",
    "\n",
    "                \n",
    "#         if j+1 in mobility_dict.keys():\n",
    "#             results[i][mobility_dict[j+1]-1] = results[i][mobility_dict[j+1]-1] + results[i][j]\n",
    "#             results[i][j] = 0\n",
    "    "
   ]
  },
  {
   "cell_type": "code",
   "execution_count": 29,
   "metadata": {},
   "outputs": [
    {
     "name": "stdout",
     "output_type": "stream",
     "text": [
      "49\n"
     ]
    }
   ],
   "source": [
    "chance_to_win = []\n",
    "for result in results:\n",
    "#     print(np.sum(result))\n",
    "    chance_to_win.append(result[-1])\n",
    "for i in range(len(chance_to_win)):\n",
    "    if chance_to_win[i] > 0:\n",
    "        print(i)\n",
    "        break"
   ]
  },
  {
   "cell_type": "code",
   "execution_count": 21,
   "metadata": {},
   "outputs": [
    {
     "ename": "SyntaxError",
     "evalue": "invalid syntax (<ipython-input-21-ffda330692ed>, line 1)",
     "output_type": "error",
     "traceback": [
      "\u001b[0;36m  File \u001b[0;32m\"<ipython-input-21-ffda330692ed>\"\u001b[0;36m, line \u001b[0;32m1\u001b[0m\n\u001b[0;31m    for i in range ()\u001b[0m\n\u001b[0m                     ^\u001b[0m\n\u001b[0;31mSyntaxError\u001b[0m\u001b[0;31m:\u001b[0m invalid syntax\n"
     ]
    }
   ],
   "source": [
    "for i in range ()"
   ]
  },
  {
   "cell_type": "code",
   "execution_count": 23,
   "metadata": {},
   "outputs": [
    {
     "data": {
      "image/png": "[encoded data removed]",
      "text/plain": [
       "<Figure size 432x288 with 1 Axes>"
      ]
     },
     "metadata": {},
     "output_type": "display_data"
    }
   ],
   "source": [
    "plt.plot(chance_to_win)\n",
    "plt.show()"
   ]
  }
 ],
 "metadata": {
  "kernelspec": {
   "display_name": "Python 3",
   "language": "python",
   "name": "python3"
  },
  "language_info": {
   "codemirror_mode": {
    "name": "ipython",
    "version": 3
   },
   "file_extension": ".py",
   "mimetype": "text/x-python",
   "name": "python",
   "nbconvert_exporter": "python",
   "pygments_lexer": "ipython3",
   "version": "3.6.5"
  }
 },
 "nbformat": 4,
 "nbformat_minor": 2
}
